{
 "cells": [
  {
   "cell_type": "code",
   "execution_count": null,
   "id": "3cbd5644",
   "metadata": {},
   "outputs": [],
   "source": [
    "import mlflow\n",
    "import mlflow.sklearn\n",
    "from sklearn.ensemble import RandomForestClassifier\n",
    "from sklearn.metrics import accuracy_score, f1_score, precision_score, recall_score\n",
    "import pandas as pd\n",
    "import subprocess\n",
    "from itertools import product\n",
    "import yaml, os"
   ]
  },
  {
   "cell_type": "code",
   "execution_count": null,
   "id": "0d602458",
   "metadata": {},
   "outputs": [],
   "source": [
    "def run_experiments():\n",
    "    with open(\"params.yaml\") as f:\n",
    "        params = yaml.safe_load(f)\n",
    "\n",
    "    train_path = params[\"data\"][\"train\"]\n",
    "    val_path = params[\"data\"][\"val\"]\n",
    "    test_path = params[\"data\"][\"test\"]\n",
    "\n",
    "    mlflow_uri = params[\"mlflow\"][\"uri\"]\n",
    "    experiment_name = params[\"mlflow\"][\"experiment\"]\n",
    "\n",
    "    n_estimators_list = params[\"model\"][\"n_estimators_list\"]\n",
    "    max_depth_list = params[\"model\"][\"max_depth_list\"]\n",
    "\n",
    "    # ------------------------------\n",
    "    # Load processed data\n",
    "    train = pd.read_csv(train_path)\n",
    "    val = pd.read_csv(val_path)\n",
    "    test = pd.read_csv(test_path)\n",
    "\n",
    "    X_train, y_train = train.drop(\"y\", axis=1), train[\"y\"]\n",
    "    X_val, y_val = val.drop(\"y\", axis=1), val[\"y\"]\n",
    "    X_test, y_test = test.drop(\"y\", axis=1), test[\"y\"]\n",
    "\n",
    "    # ------------------------------\n",
    "    # Get current data version (Git commit hash)\n",
    "    data_version = subprocess.getoutput(\"git rev-parse HEAD\")\n",
    "    print(\"Using data version:\", data_version)\n",
    "\n",
    "    # ------------------------------\n",
    "    # Set remote MLflow server\n",
    "    mlflow.set_tracking_uri(mlflow_uri)\n",
    "    mlflow.set_experiment(experiment_name)\n",
    "\n",
    "    # ------------------------------\n",
    "    # Run experiments\n",
    "    for n_estimators, max_depth in product(n_estimators_list, max_depth_list):\n",
    "        with mlflow.start_run():\n",
    "            mlflow.log_param(\"n_estimators\", n_estimators)\n",
    "            mlflow.log_param(\"max_depth\", max_depth)\n",
    "            mlflow.log_param(\"data_version\", data_version)\n",
    "\n",
    "            model = RandomForestClassifier(n_estimators=n_estimators, max_depth=max_depth, random_state=42)\n",
    "            model.fit(X_train, y_train)\n",
    "\n",
    "            y_val_pred = model.predict(X_val)\n",
    "            val_f1 = f1_score(y_val, y_val_pred)\n",
    "            mlflow.log_metric(\"val_f1\", val_f1)\n",
    "\n",
    "            y_test_pred = model.predict(X_test)\n",
    "            test_f1 = f1_score(y_test, y_test_pred)\n",
    "            mlflow.log_metric(\"test_f1\", test_f1)\n",
    "\n",
    "            mlflow.sklearn.log_model(model, \"model\")\n",
    "\n",
    "            print(f\"Run logged: n_estimators={n_estimators}, max_depth={max_depth}, val_f1={val_f1:.4f}, test_f1={test_f1:.4f}\")"
   ]
  },
  {
   "cell_type": "code",
   "execution_count": null,
   "id": "36391390",
   "metadata": {},
   "outputs": [],
   "source": [
    "if __name__ == \"__main__\":\n",
    "    run_experiments()"
   ]
  }
 ],
 "metadata": {
  "kernelspec": {
   "display_name": ".venv",
   "language": "python",
   "name": "python3"
  },
  "language_info": {
   "codemirror_mode": {
    "name": "ipython",
    "version": 3
   },
   "file_extension": ".py",
   "mimetype": "text/x-python",
   "name": "python",
   "nbconvert_exporter": "python",
   "pygments_lexer": "ipython3",
   "version": "3.12.8"
  }
 },
 "nbformat": 4,
 "nbformat_minor": 5
}
