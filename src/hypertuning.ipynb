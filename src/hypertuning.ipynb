{
 "cells": [
  {
   "cell_type": "code",
   "execution_count": null,
   "id": "6bb4191e",
   "metadata": {},
   "outputs": [],
   "source": [
    "import yaml\n",
    "import mlflow\n",
    "import mlflow.sklearn\n",
    "from sklearn.ensemble import RandomForestClassifier\n",
    "from sklearn.metrics import accuracy_score, f1_score, precision_score, recall_score\n",
    "import pandas as pd\n",
    "import subprocess\n",
    "import joblib\n",
    "from itertools import product"
   ]
  },
  {
   "cell_type": "code",
   "execution_count": null,
   "id": "5059c7b5",
   "metadata": {},
   "outputs": [],
   "source": [
    "# Load DVC params\n",
    "with open(\"params.yaml\") as f:\n",
    "    params = yaml.safe_load(f)\n",
    "\n",
    "train_path = params[\"data\"][\"train\"]\n",
    "val_path = params[\"data\"][\"val\"]\n",
    "test_path = params[\"data\"][\"test\"]\n",
    "\n",
    "MLFLOW_URI = params[\"mlflow\"][\"uri\"]\n",
    "EXPERIMENT_NAME = params[\"mlflow\"][\"experiment\"]\n",
    "\n",
    "n_estimators_list = params[\"model\"][\"n_estimators_list\"]\n",
    "max_depth_list = params[\"model\"][\"max_depth_list\"]"
   ]
  },
  {
   "cell_type": "code",
   "execution_count": null,
   "id": "3911648f",
   "metadata": {},
   "outputs": [],
   "source": [
    "# Load processed data\n",
    "train = pd.read_csv(train_path)\n",
    "val = pd.read_csv(val_path)\n",
    "test = pd.read_csv(test_path)\n",
    "\n",
    "X_train, y_train = train.drop(\"y\", axis=1), train[\"y\"]\n",
    "X_val, y_val = val.drop(\"y\", axis=1), val[\"y\"]\n",
    "X_test, y_test = test.drop(\"y\", axis=1), test[\"y\"]"
   ]
  },
  {
   "cell_type": "code",
   "execution_count": null,
   "id": "960a8f6d",
   "metadata": {},
   "outputs": [],
   "source": [
    "# Remote MLflow server\n",
    "mlflow.set_tracking_uri(MLFLOW_URI)\n",
    "mlflow.set_experiment(EXPERIMENT_NAME)\n",
    "\n",
    "# Get data version (git commit hash)\n",
    "data_version = subprocess.getoutput(\"git rev-parse HEAD\")\n",
    "print(f\"Using data version: {data_version}\")"
   ]
  },
  {
   "cell_type": "code",
   "execution_count": null,
   "id": "62bc18d5",
   "metadata": {},
   "outputs": [],
   "source": [
    "# Run experiments\n",
    "for n_estimators, max_depth in product(n_estimators_list, max_depth_list):\n",
    "    with mlflow.start_run():\n",
    "        # Log hyperparameters and data version\n",
    "        mlflow.log_param(\"n_estimators\", n_estimators)\n",
    "        mlflow.log_param(\"max_depth\", max_depth)\n",
    "        mlflow.log_param(\"data_version\", data_version)\n",
    "\n",
    "        # Train model\n",
    "        model = RandomForestClassifier(n_estimators=n_estimators, max_depth=max_depth, random_state=42)\n",
    "        model.fit(X_train, y_train)\n",
    "\n",
    "        # Validation metrics\n",
    "        y_val_pred = model.predict(X_val)\n",
    "        val_acc = accuracy_score(y_val, y_val_pred)\n",
    "        val_f1 = f1_score(y_val, y_val_pred)\n",
    "        val_prec = precision_score(y_val, y_val_pred)\n",
    "        val_rec = recall_score(y_val, y_val_pred)\n",
    "\n",
    "        mlflow.log_metric(\"val_accuracy\", val_acc)\n",
    "        mlflow.log_metric(\"val_f1\", val_f1)\n",
    "        mlflow.log_metric(\"val_precision\", val_prec)\n",
    "        mlflow.log_metric(\"val_recall\", val_rec)\n",
    "\n",
    "        # Test metrics\n",
    "        y_test_pred = model.predict(X_test)\n",
    "        mlflow.log_metric(\"test_accuracy\", accuracy_score(y_test, y_test_pred))\n",
    "        mlflow.log_metric(\"test_f1\", f1_score(y_test, y_test_pred))\n",
    "        mlflow.log_metric(\"test_precision\", precision_score(y_test, y_test_pred))\n",
    "        mlflow.log_metric(\"test_recall\", recall_score(y_test, y_test_pred))\n",
    "\n",
    "        # Log model\n",
    "        mlflow.sklearn.log_model(model, \"model\")\n",
    "\n",
    "        print(f\"✅ Run logged: n_estimators={n_estimators}, max_depth={max_depth}, val_f1={val_f1:.4f}\")"
   ]
  }
 ],
 "metadata": {
  "kernelspec": {
   "display_name": ".venv",
   "language": "python",
   "name": "python3"
  },
  "language_info": {
   "codemirror_mode": {
    "name": "ipython",
    "version": 3
   },
   "file_extension": ".py",
   "mimetype": "text/x-python",
   "name": "python",
   "nbconvert_exporter": "python",
   "pygments_lexer": "ipython3",
   "version": "3.12.8"
  }
 },
 "nbformat": 4,
 "nbformat_minor": 5
}
