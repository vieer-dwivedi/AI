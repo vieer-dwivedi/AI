{
 "cells": [
  {
   "cell_type": "code",
   "execution_count": 1,
   "id": "4bf79e31",
   "metadata": {},
   "outputs": [
    {
     "ename": "FileNotFoundError",
     "evalue": "[Errno 2] No such file or directory: 'params.yaml'",
     "output_type": "error",
     "traceback": [
      "\u001b[31m---------------------------------------------------------------------------\u001b[39m",
      "\u001b[31mFileNotFoundError\u001b[39m                         Traceback (most recent call last)",
      "\u001b[36mCell\u001b[39m\u001b[36m \u001b[39m\u001b[32mIn[1]\u001b[39m\u001b[32m, line 10\u001b[39m\n\u001b[32m      6\u001b[39m \u001b[38;5;28;01mimport\u001b[39;00m\u001b[38;5;250m \u001b[39m\u001b[34;01mos\u001b[39;00m\n\u001b[32m      8\u001b[39m \u001b[38;5;66;03m# ------------------------------\u001b[39;00m\n\u001b[32m      9\u001b[39m \u001b[38;5;66;03m# Load params.yaml\u001b[39;00m\n\u001b[32m---> \u001b[39m\u001b[32m10\u001b[39m \u001b[38;5;28;01mwith\u001b[39;00m \u001b[38;5;28;43mopen\u001b[39;49m\u001b[43m(\u001b[49m\u001b[33;43m\"\u001b[39;49m\u001b[33;43mparams.yaml\u001b[39;49m\u001b[33;43m\"\u001b[39;49m\u001b[43m)\u001b[49m \u001b[38;5;28;01mas\u001b[39;00m f:\n\u001b[32m     11\u001b[39m     params = yaml.safe_load(f)\n\u001b[32m     13\u001b[39m RAW_DATA_PATH = params[\u001b[33m\"\u001b[39m\u001b[33mdata\u001b[39m\u001b[33m\"\u001b[39m].get(\u001b[33m\"\u001b[39m\u001b[33mraw\u001b[39m\u001b[33m\"\u001b[39m, \u001b[33m\"\u001b[39m\u001b[33mdata/raw/bank-full.csv\u001b[39m\u001b[33m\"\u001b[39m)  \u001b[38;5;66;03m# default if not in params\u001b[39;00m\n",
      "\u001b[36mFile \u001b[39m\u001b[32m~/Desktop/learn/llm/.venv/lib/python3.12/site-packages/IPython/core/interactiveshell.py:343\u001b[39m, in \u001b[36m_modified_open\u001b[39m\u001b[34m(file, *args, **kwargs)\u001b[39m\n\u001b[32m    336\u001b[39m \u001b[38;5;28;01mif\u001b[39;00m file \u001b[38;5;129;01min\u001b[39;00m {\u001b[32m0\u001b[39m, \u001b[32m1\u001b[39m, \u001b[32m2\u001b[39m}:\n\u001b[32m    337\u001b[39m     \u001b[38;5;28;01mraise\u001b[39;00m \u001b[38;5;167;01mValueError\u001b[39;00m(\n\u001b[32m    338\u001b[39m         \u001b[33mf\u001b[39m\u001b[33m\"\u001b[39m\u001b[33mIPython won\u001b[39m\u001b[33m'\u001b[39m\u001b[33mt let you open fd=\u001b[39m\u001b[38;5;132;01m{\u001b[39;00mfile\u001b[38;5;132;01m}\u001b[39;00m\u001b[33m by default \u001b[39m\u001b[33m\"\u001b[39m\n\u001b[32m    339\u001b[39m         \u001b[33m\"\u001b[39m\u001b[33mas it is likely to crash IPython. If you know what you are doing, \u001b[39m\u001b[33m\"\u001b[39m\n\u001b[32m    340\u001b[39m         \u001b[33m\"\u001b[39m\u001b[33myou can use builtins\u001b[39m\u001b[33m'\u001b[39m\u001b[33m open.\u001b[39m\u001b[33m\"\u001b[39m\n\u001b[32m    341\u001b[39m     )\n\u001b[32m--> \u001b[39m\u001b[32m343\u001b[39m \u001b[38;5;28;01mreturn\u001b[39;00m \u001b[43mio_open\u001b[49m\u001b[43m(\u001b[49m\u001b[43mfile\u001b[49m\u001b[43m,\u001b[49m\u001b[43m \u001b[49m\u001b[43m*\u001b[49m\u001b[43margs\u001b[49m\u001b[43m,\u001b[49m\u001b[43m \u001b[49m\u001b[43m*\u001b[49m\u001b[43m*\u001b[49m\u001b[43mkwargs\u001b[49m\u001b[43m)\u001b[49m\n",
      "\u001b[31mFileNotFoundError\u001b[39m: [Errno 2] No such file or directory: 'params.yaml'"
     ]
    }
   ],
   "source": [
    "# Cell 1 — Imports\n",
    "import pandas as pd\n",
    "from sklearn.model_selection import train_test_split\n",
    "from sklearn.preprocessing import LabelEncoder\n",
    "import yaml\n",
    "import os\n",
    "\n",
    "# ------------------------------\n",
    "# Load params.yaml\n",
    "with open(\"params.yaml\") as f:\n",
    "    params = yaml.safe_load(f)\n",
    "\n",
    "RAW_DATA_PATH = params[\"data\"].get(\"raw\", \"data/raw/bank-full.csv\")  # default if not in params\n",
    "PROCESSED_PATH = params[\"data\"].get(\"processed\", \"data/processed/\")\n",
    "\n",
    "# Ensure processed directory exists\n",
    "os.makedirs(PROCESSED_PATH, exist_ok=True)"
   ]
  },
  {
   "cell_type": "code",
   "execution_count": null,
   "id": "eea1fb92",
   "metadata": {},
   "outputs": [],
   "source": [
    "# Cell 2 — Functions\n",
    "\n",
    "def load_data(path=RAW_DATA_PATH):\n",
    "    \"\"\"Load raw dataset\"\"\"\n",
    "    df = pd.read_csv(path, sep=\";\")  # UCI dataset is semicolon-separated\n",
    "    return df\n",
    "\n",
    "def clean_data(df):\n",
    "    \"\"\"Basic cleaning + encoding\"\"\"\n",
    "    # Drop duplicates\n",
    "    df = df.drop_duplicates()\n",
    "\n",
    "    # Encode categorical features\n",
    "    categorical_cols = df.select_dtypes(include=[\"object\"]).columns\n",
    "    label_encoders = {}\n",
    "    for col in categorical_cols:\n",
    "        le = LabelEncoder()\n",
    "        df[col] = le.fit_transform(df[col].astype(str))\n",
    "        label_encoders[col] = le\n",
    "\n",
    "    return df, label_encoders\n",
    "\n",
    "def split_data(df, strat_col=\"y\"):\n",
    "    \"\"\"Split into train, validation, test\"\"\"\n",
    "    train, temp = train_test_split(df, test_size=0.3, random_state=42, stratify=df[strat_col])\n",
    "    val, test = train_test_split(temp, test_size=0.5, random_state=42, stratify=temp[strat_col])\n",
    "    return train, val, test\n",
    "\n",
    "def save_splits(train, val, test, out_dir=PROCESSED_PATH):\n",
    "    train.to_csv(os.path.join(out_dir, \"train.csv\"), index=False)\n",
    "    val.to_csv(os.path.join(out_dir, \"val.csv\"), index=False)\n",
    "    test.to_csv(os.path.join(out_dir, \"test.csv\"), index=False)\n",
    "    print(f\"✅ Data saved in {out_dir}\")\n"
   ]
  },
  {
   "cell_type": "code",
   "execution_count": null,
   "id": "52a323ab",
   "metadata": {},
   "outputs": [],
   "source": [
    "# Cell 3 — Run preprocessing\n",
    "\n",
    "df = load_data()\n",
    "df_clean, encoders = clean_data(df)\n",
    "train, val, test = split_data(df_clean)\n",
    "save_splits(train, val, test)"
   ]
  }
 ],
 "metadata": {
  "kernelspec": {
   "display_name": ".venv",
   "language": "python",
   "name": "python3"
  },
  "language_info": {
   "codemirror_mode": {
    "name": "ipython",
    "version": 3
   },
   "file_extension": ".py",
   "mimetype": "text/x-python",
   "name": "python",
   "nbconvert_exporter": "python",
   "pygments_lexer": "ipython3",
   "version": "3.12.8"
  }
 },
 "nbformat": 4,
 "nbformat_minor": 5
}
