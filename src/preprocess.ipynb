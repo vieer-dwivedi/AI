{
 "cells": [
  {
   "cell_type": "code",
   "execution_count": null,
   "id": "4bf79e31",
   "metadata": {},
   "outputs": [],
   "source": [
    "# Cell 1 — Imports\n",
    "import pandas as pd\n",
    "from sklearn.model_selection import train_test_split\n",
    "from sklearn.preprocessing import LabelEncoder\n",
    "import yaml\n",
    "import os\n",
    "\n",
    "# ------------------------------\n",
    "# Load params.yaml\n",
    "with open(\"params.yaml\") as f:\n",
    "    params = yaml.safe_load(f)\n",
    "\n",
    "RAW_DATA_PATH = params[\"data\"].get(\"raw\", \"data/raw/bank-full.csv\")  # default if not in params\n",
    "PROCESSED_PATH = params[\"data\"].get(\"processed\", \"data/processed/\")\n",
    "\n",
    "# Ensure processed directory exists\n",
    "os.makedirs(PROCESSED_PATH, exist_ok=True)"
   ]
  },
  {
   "cell_type": "code",
   "execution_count": null,
   "id": "eea1fb92",
   "metadata": {},
   "outputs": [],
   "source": [
    "# Cell 2 — Functions\n",
    "\n",
    "def load_data(path=RAW_DATA_PATH):\n",
    "    \"\"\"Load raw dataset\"\"\"\n",
    "    df = pd.read_csv(path, sep=\";\")  # UCI dataset is semicolon-separated\n",
    "    return df\n",
    "\n",
    "def clean_data(df):\n",
    "    \"\"\"Basic cleaning + encoding\"\"\"\n",
    "    # Drop duplicates\n",
    "    df = df.drop_duplicates()\n",
    "\n",
    "    # Encode categorical features\n",
    "    categorical_cols = df.select_dtypes(include=[\"object\"]).columns\n",
    "    label_encoders = {}\n",
    "    for col in categorical_cols:\n",
    "        le = LabelEncoder()\n",
    "        df[col] = le.fit_transform(df[col].astype(str))\n",
    "        label_encoders[col] = le\n",
    "\n",
    "    return df, label_encoders\n",
    "\n",
    "def split_data(df, strat_col=\"y\"):\n",
    "    \"\"\"Split into train, validation, test\"\"\"\n",
    "    train, temp = train_test_split(df, test_size=0.3, random_state=42, stratify=df[strat_col])\n",
    "    val, test = train_test_split(temp, test_size=0.5, random_state=42, stratify=temp[strat_col])\n",
    "    return train, val, test\n",
    "\n",
    "def save_splits(train, val, test, out_dir=PROCESSED_PATH):\n",
    "    train.to_csv(os.path.join(out_dir, \"train.csv\"), index=False)\n",
    "    val.to_csv(os.path.join(out_dir, \"val.csv\"), index=False)\n",
    "    test.to_csv(os.path.join(out_dir, \"test.csv\"), index=False)\n",
    "    print(f\"✅ Data saved in {out_dir}\")\n"
   ]
  },
  {
   "cell_type": "code",
   "execution_count": null,
   "id": "52a323ab",
   "metadata": {},
   "outputs": [],
   "source": [
    "# Cell 3 — Run preprocessing\n",
    "\n",
    "df = load_data()\n",
    "df_clean, encoders = clean_data(df)\n",
    "train, val, test = split_data(df_clean)\n",
    "save_splits(train, val, test)"
   ]
  }
 ],
 "metadata": {
  "kernelspec": {
   "display_name": ".venv",
   "language": "python",
   "name": "python3"
  },
  "language_info": {
   "codemirror_mode": {
    "name": "ipython",
    "version": 3
   },
   "file_extension": ".py",
   "mimetype": "text/x-python",
   "name": "python",
   "nbconvert_exporter": "python",
   "pygments_lexer": "ipython3",
   "version": "3.12.8"
  }
 },
 "nbformat": 4,
 "nbformat_minor": 5
}
