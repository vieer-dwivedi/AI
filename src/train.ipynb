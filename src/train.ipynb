{
 "cells": [
  {
   "cell_type": "code",
   "execution_count": null,
   "id": "87cad1b4",
   "metadata": {},
   "outputs": [],
   "source": [
    "import yaml\n",
    "import pandas as pd\n",
    "import joblib\n",
    "from sklearn.ensemble import RandomForestClassifier\n",
    "import mlflow\n",
    "from mlflow.tracking import MlflowClient\n",
    "print(\"Setup complete.\")"
   ]
  },
  {
   "cell_type": "code",
   "execution_count": null,
   "id": "8f364db5",
   "metadata": {},
   "outputs": [],
   "source": [
    "with open(\"params.yaml\") as f:\n",
    "    params = yaml.safe_load(f)\n",
    "\n",
    "EXPERIMENT_NAME = params[\"mlflow\"][\"experiment\"]\n",
    "MLFLOW_URI = params[\"mlflow\"][\"uri\"]"
   ]
  },
  {
   "cell_type": "code",
   "execution_count": null,
   "id": "5e3acaf2",
   "metadata": {},
   "outputs": [],
   "source": [
    "train_path = params[\"data\"][\"train\"]\n",
    "val_path = params[\"data\"][\"val\"]\n",
    "test_path = params[\"data\"][\"test\"]"
   ]
  },
  {
   "cell_type": "code",
   "execution_count": null,
   "id": "180bb6f2",
   "metadata": {},
   "outputs": [],
   "source": [
    "train = pd.read_csv(train_path)\n",
    "val = pd.read_csv(val_path)\n",
    "test = pd.read_csv(test_path)\n",
    "\n",
    "X_train, y_train = train.drop(\"y\", axis=1), train[\"y\"]\n",
    "X_val, y_val = val.drop(\"y\", axis=1), val[\"y\"]\n",
    "X_test, y_test = test.drop(\"y\", axis=1), test[\"y\"]"
   ]
  },
  {
   "cell_type": "code",
   "execution_count": null,
   "id": "c571e203",
   "metadata": {},
   "outputs": [],
   "source": [
    "mlflow.set_tracking_uri(MLFLOW_URI)\n",
    "client = MlflowClient()\n",
    "experiment = client.get_experiment_by_name(EXPERIMENT_NAME)\n",
    "runs = client.search_runs(\n",
    "    experiment_ids=[experiment.experiment_id],\n",
    "    order_by=[\"metrics.val_f1 DESC\"]\n",
    ")"
   ]
  },
  {
   "cell_type": "code",
   "execution_count": null,
   "id": "67016319",
   "metadata": {},
   "outputs": [],
   "source": [
    "best_run = runs[0]\n",
    "best_params = best_run.data.params"
   ]
  },
  {
   "cell_type": "code",
   "execution_count": null,
   "id": "cc24692b",
   "metadata": {},
   "outputs": [],
   "source": [
    "best_model = RandomForestClassifier(\n",
    "    n_estimators=int(best_params[\"n_estimators\"]),\n",
    "    max_depth=None if best_params[\"max_depth\"] == \"None\" else int(best_params[\"max_depth\"]),\n",
    "    random_state=42,\n",
    "    verbose=1 \n",
    ")"
   ]
  },
  {
   "cell_type": "code",
   "execution_count": null,
   "id": "da02d663",
   "metadata": {},
   "outputs": [],
   "source": [
    "X_train_val = pd.concat([X_train, X_val])\n",
    "y_train_val = pd.concat([y_train, y_val])\n",
    "best_model.fit(X_train_val, y_train_val)"
   ]
  },
  {
   "cell_type": "code",
   "execution_count": null,
   "id": "daea0627",
   "metadata": {},
   "outputs": [],
   "source": [
    "with mlflow.start_run() as run:\n",
    "    mlflow.sklearn.log_model(best_model, \"best_model\")\n",
    "    joblib.dump(best_model, \"models/best_model.pkl\")\n",
    "    print(\"✅ Best model retrained on train+val and logged.\")\n",
    "    \n",
    "    model_uri = f\"runs:/{run.info.run_id}/best_model\"\n",
    "    mlflow.register_model(model_uri, \"Best_RF_Model\")\n",
    "    print(\"✅ Model registered in MLflow Model Registry\")"
   ]
  },
  {
   "cell_type": "code",
   "execution_count": null,
   "id": "691c0494",
   "metadata": {},
   "outputs": [],
   "source": []
  }
 ],
 "metadata": {
  "kernelspec": {
   "display_name": ".venv",
   "language": "python",
   "name": "python3"
  },
  "language_info": {
   "codemirror_mode": {
    "name": "ipython",
    "version": 3
   },
   "file_extension": ".py",
   "mimetype": "text/x-python",
   "name": "python",
   "nbconvert_exporter": "python",
   "pygments_lexer": "ipython3",
   "version": "3.12.8"
  }
 },
 "nbformat": 4,
 "nbformat_minor": 5
}
